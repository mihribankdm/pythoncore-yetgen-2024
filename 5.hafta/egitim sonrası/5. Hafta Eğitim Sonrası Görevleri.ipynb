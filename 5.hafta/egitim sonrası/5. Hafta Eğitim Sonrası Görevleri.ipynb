{
 "cells": [
  {
   "cell_type": "markdown",
   "metadata": {
    "id": "Rm1DKmXZM-Ja"
   },
   "source": [
    "# Problem 1\n",
    "\n",
    "Fizikte, bir nesnenin sabit ivmeyle hareket ederken son hızını \n",
    "(veya hızını) bulmak için aşağıdaki denklem kullanılabilir:\n",
    "```\n",
    "vf = vi + at\n",
    "burada:\n",
    "vf= son hız\n",
    "vi= ilk hız\n",
    "a= hızlanma\n",
    "t= zaman\n",
    "```\n",
    "İlk hız, ivme ve zaman verildiğinde, son hızı döndürecek bir fonksiyon yazın."
   ]
  },
  {
   "cell_type": "code",
   "execution_count": 1,
   "metadata": {
    "id": "vWrjJiV0M-Jk"
   },
   "outputs": [
    {
     "name": "stdout",
     "output_type": "stream",
     "text": [
      "Son hız: 170.0 m/s\n"
     ]
    }
   ],
   "source": [
    "def son_hiz(vi, a, t):\n",
    "    vf = vi + (a * t)\n",
    "    return vf\n",
    "vi = float(input(\"İlk hızı girin (m/s): \"))\n",
    "a = float(input(\"İvmeyi girin (m/s^2): \"))\n",
    "t = float(input(\"Zamanı girin (s): \"))\n",
    "sonuc = son_hiz(vi, a, t)\n",
    "print(f\"Son hız: {sonuc} m/s\")\n",
    " \n",
    "\n"
   ]
  },
  {
   "cell_type": "markdown",
   "metadata": {
    "id": "uAHpyY5HM-Jq"
   },
   "source": [
    "# Problem 2\n",
    "\n",
    "1'den 1000'e kadar olan sayılardan mükemmel sayı olanları ekrana yazdırın. Bunun için bir sayının mükemmel olup olmadığını dönen bir tane fonksiyon yazın.\n",
    "\n",
    "Bir sayının bölenlerinin toplamı kendine eşitse bu sayı mükemmel bir sayıdır. Örnek olarak 6 mükemmel bir sayıdır (1 + 2 + 3 = 6)."
   ]
  },
  {
   "cell_type": "code",
   "execution_count": 2,
   "metadata": {
    "id": "yrY4Y5ncM-Jr"
   },
   "outputs": [
    {
     "name": "stdout",
     "output_type": "stream",
     "text": [
      "1'den 1000'e kadar olan mükemmel sayılar:\n",
      "6\n",
      "28\n",
      "496\n"
     ]
    }
   ],
   "source": [
    "\n",
    "def is_perfect_number(n):\n",
    "    toplam = sum(i for i in range(1, n) if n % i == 0)\n",
    "    return toplam == n\n",
    "print(\"1'den 1000'e kadar olan mükemmel sayılar:\")\n",
    "for num in range(1, 1001):\n",
    "    if is_perfect_number(num):\n",
    "        print(num)"
   ]
  },
  {
   "cell_type": "markdown",
   "metadata": {
    "id": "C2-XwlJtM-Jr"
   },
   "source": [
    "# Problem 3\n",
    "\n",
    "1'den 100'e kadar olan sayılardan pisagor üçgeni oluşturanları ekrana yazdıran bir fonksiyon yazın.(a <= 100,b <= 100)\n"
   ]
  },
  {
   "cell_type": "code",
   "execution_count": 3,
   "metadata": {
    "id": "BMNy4xi-M-Js"
   },
   "outputs": [
    {
     "name": "stdout",
     "output_type": "stream",
     "text": [
      "1'den 100'e kadar olan Pisagor üçgenleri:\n",
      "(3, 4, 5)\n",
      "(5, 12, 13)\n",
      "(6, 8, 10)\n",
      "(7, 24, 25)\n",
      "(8, 15, 17)\n",
      "(9, 12, 15)\n",
      "(9, 40, 41)\n",
      "(10, 24, 26)\n",
      "(11, 60, 61)\n",
      "(12, 16, 20)\n",
      "(12, 35, 37)\n",
      "(13, 84, 85)\n",
      "(14, 48, 50)\n",
      "(15, 20, 25)\n",
      "(15, 36, 39)\n",
      "(16, 30, 34)\n",
      "(16, 63, 65)\n",
      "(18, 24, 30)\n",
      "(18, 80, 82)\n",
      "(20, 21, 29)\n",
      "(20, 48, 52)\n",
      "(21, 28, 35)\n",
      "(21, 72, 75)\n",
      "(24, 32, 40)\n",
      "(24, 45, 51)\n",
      "(24, 70, 74)\n",
      "(25, 60, 65)\n",
      "(27, 36, 45)\n",
      "(28, 45, 53)\n",
      "(28, 96, 100)\n",
      "(30, 40, 50)\n",
      "(30, 72, 78)\n",
      "(32, 60, 68)\n",
      "(33, 44, 55)\n",
      "(33, 56, 65)\n",
      "(35, 84, 91)\n",
      "(36, 48, 60)\n",
      "(36, 77, 85)\n",
      "(39, 52, 65)\n",
      "(39, 80, 89)\n",
      "(40, 42, 58)\n",
      "(40, 75, 85)\n",
      "(42, 56, 70)\n",
      "(45, 60, 75)\n",
      "(48, 55, 73)\n",
      "(48, 64, 80)\n",
      "(51, 68, 85)\n",
      "(54, 72, 90)\n",
      "(57, 76, 95)\n",
      "(60, 63, 87)\n",
      "(60, 80, 100)\n",
      "(65, 72, 97)\n"
     ]
    }
   ],
   "source": [
    "def pisagor_ucgen():\n",
    "    print(\"1'den 100'e kadar olan Pisagor üçgenleri:\")\n",
    "    for a in range(1, 101):\n",
    "        for b in range(a, 101):\n",
    "            c = (a**2 + b**2) ** 0.5\n",
    "            if int(c) ** 2 == a**2 + b**2 and c <= 100:\n",
    "                print(f\"({a}, {b}, {int(c)})\")\n",
    "\n",
    "pisagor_ucgen()\n"
   ]
  },
  {
   "cell_type": "markdown",
   "metadata": {
    "id": "oPfmWi4jM-Js"
   },
   "source": [
    "# Problem 4\n",
    "\n",
    "Bir duvar boyamaya karar verdiniz. Boya kutusunun üzerindeki talimatta, 1 kutu boyanın 5 metrekarelik bir duvarı boyayabileceği yazıyor. Rastgele bir duvar yüksekliği ve genişliği verildiğinde, kaç kutu boya satın almanız gerektiğini hesaplayın.\n",
    "\n",
    "kutu sayısı = (duvar yüksekliği * duvar genişliği) ÷ kutu başına kaplama.\n",
    "\n",
    "örneğin Yükseklik = 2, Genişlik = 4, Kaplama = 5\n",
    "\n",
    "kutu sayısı = (2 * 4) ÷ 5 = 1.6\n",
    "\n",
    "Ancak bir kutu boyanın 0,6'sını satın alamayacağınız için, sonuç 2 kutuya yuvarlanmalıdır .\n"
   ]
  },
  {
   "cell_type": "code",
   "execution_count": 7,
   "metadata": {
    "id": "0zuyzSp5M-Jt"
   },
   "outputs": [
    {
     "name": "stdout",
     "output_type": "stream",
     "text": [
      "Satın almanız gereken kutu sayısı: 2\n"
     ]
    }
   ],
   "source": [
    "def kutu_sayisi_hesapla(yukseklik, genislik, kaplama):\n",
    "    alan = yukseklik * genislik\n",
    "    kutu_sayisi = alan / kaplama\n",
    "    if kutu_sayisi % 1 > 0:\n",
    "        return int(kutu_sayisi) + 1\n",
    "    else:\n",
    "        return int(kutu_sayisi)\n",
    "yukseklik = 2\n",
    "genislik = 4\n",
    "kaplama = 5\n",
    "sonuc = kutu_sayisi_hesapla(yukseklik, genislik, kaplama)\n",
    "print(f\"Satın almanız gereken kutu sayısı: {sonuc}\")\n"
   ]
  },
  {
   "cell_type": "markdown",
   "metadata": {
    "id": "pe6TJuBBM-Ju"
   },
   "source": [
    "# Problem 5\n",
    "\n",
    "Bir kelimedeki ünlü ve ünsüz harfleri sayan bir fonksiyon yazınız."
   ]
  },
  {
   "cell_type": "code",
   "execution_count": 8,
   "metadata": {
    "id": "LJ0opjiLM-Ju"
   },
   "outputs": [
    {
     "name": "stdout",
     "output_type": "stream",
     "text": [
      "Ünlü harf sayısı: 3\n",
      "Ünsüz harf sayısı: 4\n"
     ]
    }
   ],
   "source": [
    "def unlu_ve_unsuz_say(kelime):\n",
    "    unlu_harfler = \"aeıioöuü\"\n",
    "    unlu_sayisi = 0\n",
    "    unsuz_sayisi = 0\n",
    "    \n",
    "\n",
    "    for harf in kelime.lower():  \n",
    "        if harf in unlu_harfler:\n",
    "            unlu_sayisi += 1\n",
    "        elif harf.isalpha():  \n",
    "            unsuz_sayisi += 1\n",
    "    \n",
    "    return unlu_sayisi, unsuz_sayisi\n",
    "\n",
    "\n",
    "kelime = \"Merhaba\"\n",
    "unlu_sayisi, unsuz_sayisi = unlu_ve_unsuz_say(kelime)\n",
    "print(f\"Ünlü harf sayısı: {unlu_sayisi}\")\n",
    "print(f\"Ünsüz harf sayısı: {unsuz_sayisi}\")\n"
   ]
  },
  {
   "cell_type": "markdown",
   "metadata": {
    "id": "Lfls2YTXM-Jv"
   },
   "source": [
    "# Problem 6\n",
    "\n",
    "Verilen bir listeden çift sayıları yazdıran bir fonksiyon yazınız.\n"
   ]
  },
  {
   "cell_type": "code",
   "execution_count": 9,
   "metadata": {
    "id": "qUwsL20IM-Jv"
   },
   "outputs": [
    {
     "name": "stdout",
     "output_type": "stream",
     "text": [
      "2\n",
      "4\n",
      "6\n",
      "8\n",
      "10\n"
     ]
    }
   ],
   "source": [
    "def cift_sayilari_yazdir(liste):\n",
    "    for sayi in liste:\n",
    "        if sayi % 2 == 0:  \n",
    "            print(sayi)\n",
    "\n",
    "\n",
    "liste = [1, 2, 3, 4, 5, 6, 7, 8, 9, 10]\n",
    "cift_sayilari_yazdir(liste)\n"
   ]
  },
  {
   "cell_type": "markdown",
   "metadata": {
    "id": "IPp724iIM-Jy"
   },
   "source": [
    "# Problem 7\n",
    "\n",
    "0'dan 10'a kadar olan sayıların toplamını hesaplayan özyinelemeli (Recursive Function) bir fonksiyon oluşturan bir fonksiyon yazınız.\n",
    "\n",
    "Özyinelemeli (Recursive Function) bir işlev, kendini tekrar tekrar çağıran bir işlevdir."
   ]
  },
  {
   "cell_type": "code",
   "execution_count": 10,
   "metadata": {
    "id": "KFW6xhTJM-Jz"
   },
   "outputs": [
    {
     "name": "stdout",
     "output_type": "stream",
     "text": [
      "0'dan 10'a kadar olan sayıların toplamı: 55\n"
     ]
    }
   ],
   "source": [
    "def toplam_hesapla(n):\n",
    "   \n",
    "    if n == 0:\n",
    "        return 0\n",
    "    else:\n",
    "        return n + toplam_hesapla(n - 1)\n",
    "\n",
    "\n",
    "sonuc = toplam_hesapla(10)\n",
    "print(f\"0'dan 10'a kadar olan sayıların toplamı: {sonuc}\")\n"
   ]
  }
 ],
 "metadata": {
  "colab": {
   "provenance": []
  },
  "kernelspec": {
   "display_name": "Python 3",
   "language": "python",
   "name": "python3"
  },
  "language_info": {
   "codemirror_mode": {
    "name": "ipython",
    "version": 3
   },
   "file_extension": ".py",
   "mimetype": "text/x-python",
   "name": "python",
   "nbconvert_exporter": "python",
   "pygments_lexer": "ipython3",
   "version": "3.13.2"
  },
  "orig_nbformat": 4
 },
 "nbformat": 4,
 "nbformat_minor": 0
}
