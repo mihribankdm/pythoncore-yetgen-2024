{
 "cells": [
  {
   "cell_type": "markdown",
   "metadata": {
    "id": "-My6RWLrhXIq"
   },
   "source": [
    "# Problem 1\n",
    "Sözlükleri kullanarak bir telefon rehberi yazın. Bu rehberde kullanıcıya kimin telefonunu görüntülemek istediğini sorun ve kullanıcının girdiği isme göre o kişinin telefon numarasını yazdırın. Proje sonunda elde edeceğiniz çıktı  şuna benzer olmalı:\n",
    "\n",
    "\n",
    "Lütfen numarasını öğrenmek istediğiniz kişinin adını girin: Ahmet\n",
    "\n",
    "Ahmet isimli kişinin numarası şu şekildedir: 0532 678 13 19"
   ]
  },
  {
   "cell_type": "code",
   "execution_count": 1,
   "metadata": {
    "id": "LHIQEhchhXIu"
   },
   "outputs": [
    {
     "name": "stdout",
     "output_type": "stream",
     "text": [
      "Üzgünüm, leyla isimli kişi rehberde bulunmamaktadır.\n"
     ]
    }
   ],
   "source": [
    "telefon_rehberi = {\n",
    "    \"Ahmet\": \"0532 678 13 19\",\n",
    "    \"Mehmet\": \"0543 123 45 67\",\n",
    "    \"Ayşe\": \"0507 987 65 43\",\n",
    "    \"Fatma\": \"0555 246 80 35\"\n",
    "}\n",
    "\n",
    "isim = input(\"Lütfen numarasını öğrenmek istediğiniz kişinin adını girin: \")\n",
    "\n",
    "if isim in telefon_rehberi:\n",
    "    print(f\"{isim} isimli kişinin numarası şu şekildedir: {telefon_rehberi[isim]}\")\n",
    "else:\n",
    "    print(f\"Üzgünüm, {isim} isimli kişi rehberde bulunmamaktadır.\")"
   ]
  },
  {
   "cell_type": "markdown",
   "metadata": {
    "id": "rlgfjEi7hXIv"
   },
   "source": [
    "# Problem 2\n",
    "Sözlükleri kullanarak bir şirket çalışanları indeksi oluşturun. Bu isim indeksinde kişilerin isimleri key, kişilerin  memleket, yaş ve görev bilgileri value olmalıdır. Burada kullanacağımız value değerleri liste olmalıdır.\n",
    "\n",
    "\n",
    "Daha sonra bir isim sorgulama ekranı gibi kullanıcıya kimin bilgilerini görüntülemek istediğini \n",
    "sorun ve sorgulanan kişinin ekranda gösterilmesini sağlayın. Proje sonunda elde edeceğiniz çıktı şu şekilde olmalı:\n",
    "\n",
    "\n",
    "Lütfen bilgilerini görüntülemek istediğiniz çalışanın ismini girin: Mehmet Yağız\n",
    "\n",
    "Mehmet Yağız= Memleket: Adana Yaş: 40 Görev: Direktör"
   ]
  },
  {
   "cell_type": "code",
   "execution_count": 2,
   "metadata": {
    "id": "O09zrrs0hXIv"
   },
   "outputs": [
    {
     "name": "stdout",
     "output_type": "stream",
     "text": [
      "Üzgünüm, nil isimli çalışan bulunmamaktadır.\n"
     ]
    }
   ],
   "source": [
    "calisanlar = {\n",
    "    \"Mehmet Yağız\": [\"Adana\", 40, \"Direktör\"],\n",
    "    \"Ayşe Demir\": [\"İstanbul\", 30, \"Muhasebeci\"],\n",
    "    \"Ali Kurt\": [\"Ankara\", 35, \"Mühendis\"],\n",
    "    \"Zeynep Şahin\": [\"İzmir\", 28, \"Pazarlama Uzmanı\"]\n",
    "}\n",
    "\n",
    "isim = input(\"Lütfen bilgilerini görüntülemek istediğiniz çalışanın ismini girin: \")\n",
    "\n",
    "if isim in calisanlar:\n",
    "    memleket, yas, gorev = calisanlar[isim]\n",
    "    print(f\"{isim} = Memleket: {memleket} Yaş: {yas} Görev: {gorev}\")\n",
    "else:\n",
    "    print(f\"Üzgünüm, {isim} isimli çalışan bulunmamaktadır.\")\n"
   ]
  },
  {
   "cell_type": "markdown",
   "metadata": {
    "id": "G67ztXG-hXIw"
   },
   "source": [
    "# Problem 3\n",
    "\n",
    "3 öğrenciden oluşan bir öğrenci not sözlüğü oluşturun. Bu sözlükte öğrencilerin notları value olarak bir listede toplansın.\n",
    "\n",
    "Kullanıcıya hangi öğrencinin notlarını görmek istediğini sorun. Öğrencinin notu görüntülendiğinde program sonunda şöyle bir çıktı elde etmelisiniz:\n",
    "\n",
    "```\n",
    "Lütfen notlarını görmek istediğiniz öğrencinin adını girin: Mehmet\n",
    "\n",
    "Mehmet isimli öğrencinin      1.Sınav Notu:72\n",
    "                              2.Sınav Notu:66\n",
    "                              3.Sınav Notu:48\n",
    "Not Ortalaması: 62.0\n"
   ]
  },
  {
   "cell_type": "code",
   "execution_count": 6,
   "metadata": {
    "id": "TXQ_fuCHhXIw"
   },
   "outputs": [
    {
     "name": "stdout",
     "output_type": "stream",
     "text": [
      "Mehmet isimli öğrencinin\n",
      "1.Sınav Notu: 72\n",
      "2.Sınav Notu: 66\n",
      "3.Sınav Notu: 48\n",
      "Not Ortalaması: 62.0\n"
     ]
    }
   ],
   "source": [
    "ogrenci_notlari = {\n",
    "    \"Mehmet\": [72, 66, 48],\n",
    "    \"Ayşe\": [85, 90, 78],\n",
    "    \"Ali\": [60, 55, 70]\n",
    "}\n",
    "\n",
    "isim = input(\"Lütfen notlarını görmek istediğiniz öğrencinin adını girin: \")\n",
    "\n",
    "if isim in ogrenci_notlari:\n",
    "    notlar = ogrenci_notlari[isim]\n",
    "    print(f\"{isim} isimli öğrencinin\")\n",
    "    for i, notu in enumerate(notlar, start=1):\n",
    "        print(f\"{i}.Sınav Notu: {notu}\")\n",
    "    ortalama = sum(notlar) / len(notlar)\n",
    "    print(f\"Not Ortalaması: {ortalama:.1f}\")\n",
    "else:\n",
    "    print(f\"Üzgünüm, {isim} isimli öğrenci bulunmamaktadır.\")\n",
    "\n"
   ]
  },
  {
   "cell_type": "markdown",
   "metadata": {
    "id": "oel6A5WFhXIw"
   },
   "source": [
    "# Problem 4"
   ]
  },
  {
   "cell_type": "code",
   "execution_count": 10,
   "metadata": {
    "id": "jVRdspCrhXIx"
   },
   "outputs": [
    {
     "name": "stdout",
     "output_type": "stream",
     "text": [
      "['Bmw', 'Mercedes', 'Opel', 'Mazda']\n",
      "4\n",
      "Bmw Mazda\n",
      "['Bmw', 'Mercedes', 'Opel', 'Toyota']\n",
      "Opel\n",
      "['Bmw', 'Mercedes', 'Opel']\n",
      "['Bmw', 'Mercedes', 'Toyota', 'Renault']\n",
      "['Bmw', 'Mercedes', 'Toyota', 'Renault', 'Audi', 'Nissan']\n",
      "['Bmw', 'Mercedes', 'Toyota', 'Renault', 'Audi']\n",
      "['Audi', 'Renault', 'Toyota', 'Mercedes', 'Bmw']\n",
      "['Yiğit Bilgi', 2010, (70, 60, 70)]\n",
      "['Sena Turan', 1999, (80, 80, 70)]\n",
      "['Ahmet Turan', 1998, (80, 70, 90)]\n",
      "['Ali', 'Yağmur', 'Hakan', 'Deniz', 'Cenk']\n",
      "['Sena', 'Ali', 'Yağmur', 'Hakan', 'Deniz', 'Cenk']\n",
      "['Sena', 'Ali', 'Yağmur', 'Hakan', 'Cenk']\n",
      "True\n",
      "['Cenk', 'Hakan', 'Yağmur', 'Ali', 'Sena']\n",
      "['Ali', 'Cenk', 'Hakan', 'Sena', 'Yağmur']\n",
      "[1987, 1998, 1998, 2000]\n",
      "['Chevrolet', 'Dacia']\n",
      "2\n",
      "[]\n",
      "['guess', 'nike', 'adidas']\n"
     ]
    }
   ],
   "source": [
    "# 1-  \"Bmw, Mercedes, Opel, Mazda\" elemanlarına sahip bir liste oluşturunuz.\n",
    "arabalar = [\"Bmw\", \"Mercedes\", \"Opel\", \"Mazda\"]\n",
    "print(arabalar)\n",
    "\n",
    "# 2-  Liste Kaç elemanlıdır ?\n",
    "print(len(arabalar))\n",
    "\n",
    "# 3-  Listenin ilk ve son elemanı nedir ?\n",
    "print(arabalar[0], arabalar[-1])\n",
    "\n",
    "# 4-  Mazda değerini Toyota ile değiştirin.\n",
    "arabalar[-1] = \"Toyota\"\n",
    "print(arabalar)\n",
    "\n",
    "# 5-  Listenin -2 indeksindeki değer nedir ?\n",
    "print(arabalar[-2])\n",
    "\n",
    "\n",
    "# 6-  Listenin ilk 3 elemanını alın.\n",
    "print(arabalar[:3])\n",
    "\n",
    "\n",
    "# 7-  Listenin son 2 elemanı yerine \"Toyota\" ve \"Renault\" değerlerini ekleyin.\n",
    "arabalar[-2:] = [\"Toyota\", \"Renault\"]\n",
    "print(arabalar)\n",
    "\n",
    "# 8-  Listenin üzerine \"Audi\" ve \"Nissan\" değerlerini ekleyin.\n",
    "arabalar.extend([\"Audi\", \"Nissan\"])\n",
    "print(arabalar)\n",
    "\n",
    "# 9- Listenin son elemanını silin.\n",
    "arabalar.pop()\n",
    "print(arabalar)\n",
    "\n",
    "\n",
    "# 10- Liste elemanlarını tersten yazdırınız.\n",
    "print(list(reversed(arabalar)))\n",
    "\n",
    "\n",
    "# 11- Aşağıdaki verileri bir liste içinde saklayınız. \n",
    "\n",
    "      # studentA: Yiğit Bilgi 2010, (70,60,70)\n",
    "      # studentB: Sena Turan  1999, (80,80,70)\n",
    "      # studentC: Ahmet Turan 1998, (80,70,90) \n",
    "students = [\n",
    "    [\"Yiğit Bilgi\", 2010, (70, 60, 70)],\n",
    "    [\"Sena Turan\", 1999, (80, 80, 70)],\n",
    "    [\"Ahmet Turan\", 1998, (80, 70, 90)]\n",
    "]\n",
    "\n",
    "\n",
    "\n",
    "\n",
    "\n",
    "# 12- Liste elemanlarını ekrana yazdırınız.\n",
    "for student in students:\n",
    "    print(student)\n",
    "\n",
    "\n",
    "\n",
    "  \n",
    "names = ['Ali','Yağmur','Hakan','Deniz']\n",
    "years = [1998, 2000, 1998, 1987]\n",
    "\n",
    "# 13-  \"Cenk\" ismini listenin sonuna ekleyiniz.\n",
    "names.append(\"Cenk\")\n",
    "print(names)\n",
    "\n",
    "\n",
    "# 14-  \"Sena\" değerini listenin başına ekleyiniz.\n",
    "names.insert(0, \"Sena\")\n",
    "print(names)\n",
    "\n",
    "\n",
    "# 15-  \"Deniz\" ismini listeden siliniz.\n",
    "names.remove(\"Deniz\")\n",
    "print(names)\n",
    "\n",
    "\n",
    "# 16-  \"Ali\" listenin bir elemanı mıdır ?\n",
    "print(\"Ali\" in names)\n",
    "\n",
    "\n",
    "# 17-  Liste elemanlarını ters çevirin.\n",
    "names.reverse()\n",
    "print(names)\n",
    "\n",
    "# 18-  Liste elemanlarını alfabetik olarak sıralayınız.\n",
    "names.sort()\n",
    "print(names)\n",
    "\n",
    "\n",
    "\n",
    "# 19-  years listesini rakamsal büyüklüğe göre sıralayınız.\n",
    "years.sort()\n",
    "print(years)\n",
    "\n",
    "# 20-  str = \"Chevrolet,Dacia\" karakter dizisini listeye çeviriniz.\n",
    "car_brands = \"Chevrolet,Dacia\".split(\",\")\n",
    "print(car_brands)\n",
    "\n",
    "\n",
    "# 21- years dizisinde kaç tane 1998 değeri vardır ?\n",
    "print(years.count(1998))\n",
    "\n",
    "\n",
    "# 22- years dizisinin tüm elemanlarını siliniz.\n",
    "years.clear()\n",
    "print(years)\n",
    "\n",
    "# 23- Kullanıcıdan alacağınız 3 tane marka bilgisini bir listede saklayınız.\n",
    "user_brands = [input(\"Bir marka girin: \") for _ in range(3)]\n",
    "print(user_brands)\n",
    "\n"
   ]
  }
 ],
 "metadata": {
  "colab": {
   "provenance": []
  },
  "kernelspec": {
   "display_name": "Python 3",
   "language": "python",
   "name": "python3"
  },
  "language_info": {
   "codemirror_mode": {
    "name": "ipython",
    "version": 3
   },
   "file_extension": ".py",
   "mimetype": "text/x-python",
   "name": "python",
   "nbconvert_exporter": "python",
   "pygments_lexer": "ipython3",
   "version": "3.13.2"
  },
  "orig_nbformat": 4
 },
 "nbformat": 4,
 "nbformat_minor": 0
}
