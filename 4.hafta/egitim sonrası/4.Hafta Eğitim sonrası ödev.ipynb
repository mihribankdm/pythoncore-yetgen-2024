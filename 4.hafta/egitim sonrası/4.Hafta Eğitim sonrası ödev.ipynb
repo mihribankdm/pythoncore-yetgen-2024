{
 "cells": [
  {
   "cell_type": "markdown",
   "metadata": {},
   "source": [
    "# Problem 1\n",
    "`ogrenciler` adında bir sözlük oluşturunuz. Kullanıcıdan döngü yardımıyla 3 öğrenci için veri girmesini isteyerek öğrencilerin sırasıyla okul numarası, isim, soy isim, telefon numarası ve doğum tarihi bilgilerini alınız. Aldığınız öğrenci bilgilerini yine aynı döngü yardımıyla `ogrenciler` adındaki sözlükte saklayınız. Daha sonra öğrenci bilgilerinin bulunduğu sözlük yapısını ekrana bastırınız.\n",
    "\n"
   ]
  },
  {
   "cell_type": "code",
   "execution_count": 1,
   "metadata": {},
   "outputs": [
    {
     "name": "stdout",
     "output_type": "stream",
     "text": [
      "Öğrenci Bilgileri:\n",
      "Okul No: 1513, İsim: mihriban, Soyisim: kandemir, Telefon: 5536827278, Doğum Tarihi: 24.01.2002\n",
      "Okul No: 1612, İsim: leyla, Soyisim: demir, Telefon: 5423013150, Doğum Tarihi: 25.07.2005\n",
      "Okul No: 1417, İsim: can, Soyisim: bayram, Telefon: 5536282729, Doğum Tarihi: 23.06.1998\n"
     ]
    }
   ],
   "source": [
    "ogrenciler = {}\n",
    "\n",
    "for i in range(3):\n",
    "    okul_no = input(\"Öğrencinin okul numarasını girin: \")\n",
    "    isim = input(\"Öğrencinin adını girin: \")\n",
    "    soyisim = input(\"Öğrencinin soyadını girin: \")\n",
    "    telefon = input(\"Öğrencinin telefon numarasını girin: \")\n",
    "    dogum_tarihi = input(\"Öğrencinin doğum tarihini girin: \")\n",
    "    \n",
    "    ogrenciler[okul_no] = {\n",
    "        \"İsim\": isim,\n",
    "        \"Soyisim\": soyisim,\n",
    "        \"Telefon\": telefon,\n",
    "        \"Doğum Tarihi\": dogum_tarihi\n",
    "    }\n",
    "\n",
    "# Öğrenci bilgilerini ekrana yazdır\n",
    "print(\"Öğrenci Bilgileri:\")\n",
    "for okul_no, bilgiler in ogrenciler.items():\n",
    "    print(f\"Okul No: {okul_no}, İsim: {bilgiler['İsim']}, Soyisim: {bilgiler['Soyisim']}, Telefon: {bilgiler['Telefon']}, Doğum Tarihi: {bilgiler['Doğum Tarihi']}\")"
   ]
  },
  {
   "cell_type": "markdown",
   "metadata": {},
   "source": [
    "# Problem 2\n",
    "\n",
    "### a - Biraz ısınarak başlayalım!\n",
    "\n",
    "```\n",
    "numbers = [5,10,10,15,15,15,20,20,20,20]\n",
    "```\n",
    "\n",
    "Yukarıda `numbers` adında 10 elemanlı bir liste verilmiştir. Bu listenin her elemanını kontrol eden ve tekrar eden elemanları bir kez olacak şekilde başka bir listeye kopyalayan bir program yazınız. Son olarak oluşturduğunuz listeyi ekrana bastırınız.\n",
    "\n",
    "\n",
    "\n",
    "\n",
    "```\n",
    ">Output\n",
    "[5, 10, 15, 20]\n",
    "```\n"
   ]
  },
  {
   "cell_type": "code",
   "execution_count": 3,
   "metadata": {},
   "outputs": [
    {
     "name": "stdout",
     "output_type": "stream",
     "text": [
      "[5, 10, 15, 20]\n"
     ]
    }
   ],
   "source": [
    "numbers = [5, 10, 10, 15, 15, 15, 20, 20, 20, 20]\n",
    "tekrar_numbers = []\n",
    "\n",
    "for number in numbers:\n",
    "    if number not in tekrar_numbers:\n",
    "        tekrar_numbers.append(number)\n",
    "print(tekrar_numbers)"
   ]
  },
  {
   "cell_type": "markdown",
   "metadata": {},
   "source": [
    "### 🌶️ b) Hadi işi biraz daha zorlaştıralım! \n",
    "\n",
    "\n",
    "Şimdiyse senden `numbers` isimli listedeki tekrar eden elemanları `repeatNumbers` adındaki listeye; tekrar etmeyen elemanları `uniqueNumbers`adındaki listeye kopyalayan yazmanı ve listeleri ekrana bastırmanı bekliyoruz\n",
    "\n",
    "```\n",
    ">Output\n",
    "Tekrar Eden Elemanlar: [10, 10, 15, 15, 15, 20, 20, 20, 20]\n",
    "Tekrar Etmeyen Elemanlar: [5]\n",
    "```"
   ]
  },
  {
   "cell_type": "code",
   "execution_count": 9,
   "metadata": {},
   "outputs": [
    {
     "name": "stdout",
     "output_type": "stream",
     "text": [
      "Tekrar Eden Elemanlar: [10, 10, 15, 15, 15, 20, 20, 20, 20]\n",
      "Tekrar Etmeyen Elemanlar: [5]\n"
     ]
    }
   ],
   "source": [
    "numbers = [5, 10, 10, 15, 15, 15, 20, 20, 20, 20]\n",
    "repeatNumbers = []\n",
    "uniqueNumbers = []\n",
    "for number in numbers:\n",
    "     if numbers.count(number) > 1:\n",
    "        if number not in repeatNumbers:  # Tekrarlı elemanı bir kez ekle\n",
    "            repeatNumbers.extend([number] * numbers.count(number))\n",
    "     elif numbers.count(number) == 1:\n",
    "        uniqueNumbers.append(number)\n",
    "print(\"Tekrar Eden Elemanlar:\", repeatNumbers)\n",
    "print(\"Tekrar Etmeyen Elemanlar:\", uniqueNumbers)\n",
    "\n"
   ]
  },
  {
   "cell_type": "markdown",
   "metadata": {},
   "source": [
    "# Problem 3\n",
    "sn1 = {1,2,3,4,5}\n",
    "\n",
    "sn2 = {4,5,6,7,8}\n",
    "\n",
    " Verilen 2 adet küme için kesişimlerini, farklarını ve birleşimlerini bulunuz. "
   ]
  },
  {
   "cell_type": "code",
   "execution_count": 6,
   "metadata": {},
   "outputs": [
    {
     "name": "stdout",
     "output_type": "stream",
     "text": [
      "{4, 5}\n",
      "{1, 2, 3}\n",
      "{1, 2, 3, 4, 5, 6, 7, 8}\n"
     ]
    }
   ],
   "source": [
    "sn1 = {1, 2, 3, 4, 5}\n",
    "sn2 = {4, 5, 6, 7, 8}\n",
    "kesisim = sn1.intersection(sn2)\n",
    "fark = sn1.difference(sn2)\n",
    "birlesim = sn1.union(sn2)\n",
    "print(kesisim)\n",
    "print(fark)\n",
    "print(birlesim)"
   ]
  },
  {
   "cell_type": "markdown",
   "metadata": {},
   "source": [
    "# Problem 4\n",
    "\n",
    "Buradaki işlemlerimizin tamamı stringler içindir. Aşağıda verilecek olan metodlar için kendinizin örnek yaratması gerekmektedir. \n",
    "\n",
    "Örneğin `upper` için `string` değişkeni oluştururken` k = \"BAC\"` şeklinde oluşturmayınız. Bunun yerine k değişkenini `k = \"bac`\" şeklinde oluşturmanız `upper` metodundaki değişimi görebilmeniz için daha iyi olacaktır.\n",
    "\n",
    "Bütün metodlardaki değişimin gözle görülür şekilde değişimi beklenmektedir.\n",
    "\n",
    "\n",
    "1- capitalize(), lower(), upper(), swapcase(), title(), replace()\n",
    "\n",
    "2- endswith(), startswith(), find(), index(), count()\n",
    "\n",
    "3- split(), strip(), join(), islower(), isalpha(), isdigit()\n",
    "\n",
    "\n",
    "Yukarıdaki `string` metodlarındaki değişimleri görebildiğimiz bir program yazınız.\n"
   ]
  },
  {
   "cell_type": "code",
   "execution_count": 8,
   "metadata": {},
   "outputs": [
    {
     "name": "stdout",
     "output_type": "stream",
     "text": [
      "Original String:    Hello, World! Python Programming.  \n",
      "capitalize():   hello, world! python programming.  \n",
      "lower():   hello, world! python programming.  \n",
      "upper():   HELLO, WORLD! PYTHON PROGRAMMING.  \n",
      "swapcase():   hELLO, wORLD! pYTHON pROGRAMMING.  \n",
      "title():   Hello, World! Python Programming.  \n",
      "replace():   Hello, World! Java Programming.  \n",
      "endswith('Programming.'): False\n",
      "startswith('Hello'): False\n",
      "find('World'): 9\n",
      "index('World'): 9\n",
      "count('o'): 4\n",
      "split(): ['Hello,', 'World!', 'Python', 'Programming.']\n",
      "strip(): Hello, World! Python Programming.\n",
      "join(): Hello World Python\n",
      "islower(): False\n",
      "isalpha(): False\n",
      "isdigit(): False\n"
     ]
    }
   ],
   "source": [
    "s = \"  Hello, World! Python Programming.  \"\n",
    "print(\"Original String: \", s)\n",
    "print(\"capitalize():\", s.capitalize()) \n",
    "print(\"lower():\", s.lower()) \n",
    "print(\"upper():\", s.upper()) \n",
    "print(\"swapcase():\", s.swapcase()) \n",
    "print(\"title():\", s.title()) \n",
    "print(\"replace():\", s.replace(\"Python\", \"Java\"))\n",
    "print(\"endswith('Programming.'):\", s.endswith(\"Programming.\"))\n",
    "print(\"startswith('Hello'):\", s.startswith(\"Hello\"))\n",
    "print(\"find('World'):\", s.find(\"World\"))\n",
    "print(\"index('World'):\", s.index(\"World\"))\n",
    "print(\"count('o'):\", s.count(\"o\"))\n",
    "print(\"split():\", s.split())\n",
    "print(\"strip():\", s.strip())\n",
    "words = [\"Hello\", \"World\", \"Python\"]\n",
    "print(\"join():\", \" \".join(words))\n",
    "print(\"islower():\", s.islower())\n",
    "print(\"isalpha():\", s.isalpha())\n",
    "print(\"isdigit():\", s.isdigit())"
   ]
  }
 ],
 "metadata": {
  "kernelspec": {
   "display_name": "Python 3",
   "language": "python",
   "name": "python3"
  },
  "language_info": {
   "codemirror_mode": {
    "name": "ipython",
    "version": 3
   },
   "file_extension": ".py",
   "mimetype": "text/x-python",
   "name": "python",
   "nbconvert_exporter": "python",
   "pygments_lexer": "ipython3",
   "version": "3.13.2"
  },
  "orig_nbformat": 4
 },
 "nbformat": 4,
 "nbformat_minor": 2
}
