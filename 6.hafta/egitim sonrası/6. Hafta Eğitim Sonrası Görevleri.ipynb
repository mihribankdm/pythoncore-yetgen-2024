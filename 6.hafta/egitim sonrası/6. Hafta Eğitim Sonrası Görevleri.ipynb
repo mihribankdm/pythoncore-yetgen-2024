{
 "cells": [
  {
   "cell_type": "markdown",
   "metadata": {
    "id": "unoTPlV_tJOm"
   },
   "source": [
    "# Problem 1 \n",
    "Bir sayının çift olup olmadığını sorgulayan bir fonksiyon yazın. Bu fonksiyon, eğer sayı çift ise bu değeri dönsün. Ancak sayı tek sayı ise fonksiyon raise ile ValueError hatası oluştursun. Daha sonra, içinde çift ve tek sayılar bulunduran bir liste tanımlayın ve liste üzerinde gezinerek ekrana sadece çift sayıları bastırın."
   ]
  },
  {
   "cell_type": "code",
   "execution_count": 1,
   "metadata": {
    "id": "7oyBSeXptJOp"
   },
   "outputs": [
    {
     "name": "stdout",
     "output_type": "stream",
     "text": [
      "2\n",
      "4\n",
      "6\n",
      "8\n",
      "10\n"
     ]
    }
   ],
   "source": [
    "def cift_sayi_kontrol(sayi):\n",
    "    if sayi % 2 == 0:\n",
    "        return sayi\n",
    "    else:\n",
    "        raise ValueError(f\"{sayi} bir çift sayı değil!\")\n",
    "\n",
    "\n",
    "sayilar = [1, 2, 3, 4, 5, 6, 7, 8, 9, 10]\n",
    "\n",
    "\n",
    "for sayi in sayilar:\n",
    "    try:\n",
    "        print(cift_sayi_kontrol(sayi))\n",
    "    except ValueError:\n",
    "        \n",
    "        pass"
   ]
  },
  {
   "cell_type": "markdown",
   "metadata": {
    "id": "CdfzJ2A9tJOq"
   },
   "source": [
    "# Problem 2\n",
    "\n",
    "2 YetGen lideri ders sırasında canları sıkılınca oyun oynamak isterler. Ancak hangi oyunu oynayacaklarına karar veremezler ve son olarak kendi oyunlarını yazmaya karar verirler.\n",
    "Liderlerimizin kodlamak istediği oyun kuralları şöyledir:\n",
    "- Oyunda random olarak 0 ile 100 arasında bir sayı tutulur.\n",
    "- Kullanıcıdan bilgisayarın tuttuğu sayıyı tahmin etmesi için bir sayı girmesini istenir.\n",
    "- Eğer kullanıcının girdiği sayı bulunması gereken sayıdan küçükse  tahmininizi yükseltin, büyükse tahmininizi düşürün şeklinde bir çıktı verilir.\n",
    "- Oyunun gerçeğe yakın olması için bilgisayarın çalışmasını simgelemek için 1 saniye bekleme süresi tanınır.\n",
    "- Kullanıcı 5 hakkı vardır. 5 hakkı da kullanıp sayıyı bulamazsa oyunu kaybeder."
   ]
  },
  {
   "cell_type": "code",
   "execution_count": 2,
   "metadata": {
    "id": "A1VEETgCtJOr"
   },
   "outputs": [
    {
     "name": "stdout",
     "output_type": "stream",
     "text": [
      "0 ile 100 arasında bir sayı tuttum. Bakalım bulabilecek misin?\n",
      "Tahminini düşür ⬇️\n",
      "Tahminini düşür ⬇️\n",
      "Tahminini yükselt ⬆️\n",
      "Tahminini yükselt ⬆️\n",
      "Tebrikler! Doğru tahmin ettin 🎉\n"
     ]
    }
   ],
   "source": [
    "import random\n",
    "import time\n",
    "\n",
    "\n",
    "number_to_guess = random.randint(0, 100)\n",
    "\n",
    "\n",
    "attempts_left = 5\n",
    "\n",
    "print(\"0 ile 100 arasında bir sayı tuttum. Bakalım bulabilecek misin?\")\n",
    "time.sleep(1) \n",
    "\n",
    "while attempts_left > 0:\n",
    "    try:\n",
    "        guess = int(input(f\"Tahminini gir (Kalan hakkın: {attempts_left}): \"))\n",
    "    except ValueError:\n",
    "        print(\"Lütfen geçerli bir sayı gir.\")\n",
    "        continue\n",
    "    \n",
    "    time.sleep(1)  \n",
    "\n",
    "    if guess == number_to_guess:\n",
    "        print(\"Tebrikler! Doğru tahmin ettin 🎉\")\n",
    "        break\n",
    "    elif guess < number_to_guess:\n",
    "        print(\"Tahminini yükselt ⬆️\")\n",
    "    else:\n",
    "        print(\"Tahminini düşür ⬇️\")\n",
    "    \n",
    "    attempts_left -= 1\n",
    "\n",
    "if attempts_left == 0 and guess != number_to_guess:\n",
    "    print(f\"Üzgünüm, kaybettin  Tuttuğum sayı {number_to_guess} idi.\")\n"
   ]
  }
 ],
 "metadata": {
  "colab": {
   "provenance": []
  },
  "kernelspec": {
   "display_name": "Python 3",
   "language": "python",
   "name": "python3"
  },
  "language_info": {
   "codemirror_mode": {
    "name": "ipython",
    "version": 3
   },
   "file_extension": ".py",
   "mimetype": "text/x-python",
   "name": "python",
   "nbconvert_exporter": "python",
   "pygments_lexer": "ipython3",
   "version": "3.13.2"
  },
  "orig_nbformat": 4,
  "vscode": {
   "interpreter": {
    "hash": "5026d2d6e7aaaaba093def813beadff083d8733e4a511af01735cbabd156995d"
   }
  }
 },
 "nbformat": 4,
 "nbformat_minor": 0
}
