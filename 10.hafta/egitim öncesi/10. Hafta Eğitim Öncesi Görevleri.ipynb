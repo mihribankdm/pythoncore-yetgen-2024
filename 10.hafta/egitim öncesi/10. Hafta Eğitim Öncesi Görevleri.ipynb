{
 "cells": [
  {
   "attachments": {},
   "cell_type": "markdown",
   "metadata": {},
   "source": [
    "# Problem 1"
   ]
  },
  {
   "cell_type": "code",
   "execution_count": 2,
   "metadata": {},
   "outputs": [
    {
     "name": "stdout",
     "output_type": "stream",
     "text": [
      "Matris: [4 4 5 2 5]\n",
      "Matrisin boyutu: (5,)\n",
      "Yeniden boyutlandırılmış matris: [[4 4 5 2 5]]\n",
      "Matrisin boyut sayısı: 2\n"
     ]
    }
   ],
   "source": [
    "# 1 - numpy kütüphanesini import edin\n",
    "import numpy as np\n",
    "# 2 - 0 ile 10 arasında 5 sayıdan oluşan matris üretin\n",
    "matris = np.random.randint(0, 10, 5)\n",
    "print(\"Matris:\", matris)\n",
    "\n",
    "# 3 - matris'in boyutunu öğrenin\n",
    "print(\"Matrisin boyutu:\", matris.shape)\n",
    "\n",
    "# 4 - matris'i yeniden boyutlandırın\n",
    "matris = matris.reshape(1, 5)\n",
    "print(\"Yeniden boyutlandırılmış matris:\", matris)\n",
    "\n",
    "# 5 - matris'in boyut sayısını öğrenin\n",
    "print(\"Matrisin boyut sayısı:\", matris.ndim)"
   ]
  },
  {
   "attachments": {},
   "cell_type": "markdown",
   "metadata": {},
   "source": [
    "# Problem 2"
   ]
  },
  {
   "cell_type": "code",
   "execution_count": 4,
   "metadata": {},
   "outputs": [
    {
     "name": "stdout",
     "output_type": "stream",
     "text": [
      "Orijinal Matris:\n",
      " [[1 3 5 7 9]]\n",
      "Parça 1:\n",
      " [[1 3 5]]\n",
      "Parça 2:\n",
      " [[7 9]]\n",
      "Birleşmiş Matris:\n",
      " [[1 3 5 7 9]]\n"
     ]
    }
   ],
   "source": [
    "import numpy as np\n",
    "\n",
    "# 1 - 0 ile 10 arasında bulunan tek sayılardan oluşan matris üretin\n",
    "tek_sayilar = np.arange(1, 10, 2)  # [1, 3, 5, 7, 9]\n",
    "matris = np.reshape(tek_sayilar, (1, 5))\n",
    "print(\"Orijinal Matris:\\n\", matris)\n",
    "\n",
    "# 2 - Oluşturduğunuz matrisi parçalayın\n",
    "parca1, parca2 = np.array_split(matris, 2, axis=1)\n",
    "print(\"Parça 1:\\n\", parca1)\n",
    "print(\"Parça 2:\\n\", parca2)\n",
    "\n",
    "# 3 - Parçalanmış matrisleri birleştirin\n",
    "birlesmis_matris = np.hstack((parca1, parca2))\n",
    "print(\"Birleşmiş Matris:\\n\", birlesmis_matris)\n"
   ]
  },
  {
   "attachments": {},
   "cell_type": "markdown",
   "metadata": {},
   "source": [
    "# Problem 3"
   ]
  },
  {
   "cell_type": "code",
   "execution_count": 5,
   "metadata": {},
   "outputs": [
    {
     "name": "stdout",
     "output_type": "stream",
     "text": [
      "Matris:\n",
      " [[63 37 21 35 59]\n",
      " [79 91 33 23 81]]\n",
      "\n",
      "Matris Özellikleri:\n",
      "Boyut (shape): (2, 5)\n",
      "Boyut Sayısı (ndim): 2\n",
      "Eleman Sayısı (size): 10\n",
      "Veri Tipi (dtype): int64\n",
      "Minimum Değer: 21\n",
      "Maksimum Değer: 91\n",
      "Ortalama: 52.2\n",
      "Standart Sapma: 24.36719105682885\n"
     ]
    }
   ],
   "source": [
    "import numpy as np\n",
    "\n",
    "# 1 - 5 ile 100 arasında ikişer ikişer atlayarak rastgele 10 sayıdan oluşan matris üretin\n",
    "sayilar = np.arange(5, 101, 2)  # [5, 7, 9, ..., 99] arası 2'şer artan sayılar\n",
    "matris = np.random.choice(sayilar, size=10, replace=False)  # tekrar etmeyen 10 rastgele sayı\n",
    "matris = matris.reshape(2, 5)  # 2x5'lik matris yap\n",
    "print(\"Matris:\\n\", matris)\n",
    "\n",
    "# 2 - matris'in özelliklerini inceleyin\n",
    "print(\"\\nMatris Özellikleri:\")\n",
    "print(\"Boyut (shape):\", matris.shape)\n",
    "print(\"Boyut Sayısı (ndim):\", matris.ndim)\n",
    "print(\"Eleman Sayısı (size):\", matris.size)\n",
    "print(\"Veri Tipi (dtype):\", matris.dtype)\n",
    "print(\"Minimum Değer:\", matris.min())\n",
    "print(\"Maksimum Değer:\", matris.max())\n",
    "print(\"Ortalama:\", matris.mean())\n",
    "print(\"Standart Sapma:\", matris.std())\n"
   ]
  }
 ],
 "metadata": {
  "kernelspec": {
   "display_name": "Python 3",
   "language": "python",
   "name": "python3"
  },
  "language_info": {
   "codemirror_mode": {
    "name": "ipython",
    "version": 3
   },
   "file_extension": ".py",
   "mimetype": "text/x-python",
   "name": "python",
   "nbconvert_exporter": "python",
   "pygments_lexer": "ipython3",
   "version": "3.13.2"
  },
  "orig_nbformat": 4,
  "vscode": {
   "interpreter": {
    "hash": "5026d2d6e7aaaaba093def813beadff083d8733e4a511af01735cbabd156995d"
   }
  }
 },
 "nbformat": 4,
 "nbformat_minor": 2
}
