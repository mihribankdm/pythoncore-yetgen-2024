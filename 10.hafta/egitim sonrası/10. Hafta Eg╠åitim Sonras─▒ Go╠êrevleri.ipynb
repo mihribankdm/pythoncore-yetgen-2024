{
 "cells": [
  {
   "attachments": {},
   "cell_type": "markdown",
   "metadata": {},
   "source": [
    "# Problem 1 "
   ]
  },
  {
   "cell_type": "code",
   "execution_count": 2,
   "metadata": {},
   "outputs": [
    {
     "name": "stdout",
     "output_type": "stream",
     "text": [
      "Orijinal Dizi: [42 17 89  3 25]\n",
      "Sıralanmış Dizi: [ 3 17 25 42 89]\n"
     ]
    }
   ],
   "source": [
    "# 1 - numpy kütüphanesini import edin\n",
    "import numpy as np\n",
    "# 2 - 5 elemanlı bir numpy array oluşturun\n",
    "dizi = np.array([42, 17, 89, 3, 25])\n",
    "print(\"Orijinal Dizi:\", dizi)\n",
    "\n",
    "# 3 - Oluşturduğunuz arrayi küçükten büyüğe sıralayın.\n",
    "sirali_dizi = np.sort(dizi)\n",
    "print(\"Sıralanmış Dizi:\", sirali_dizi)"
   ]
  },
  {
   "attachments": {},
   "cell_type": "markdown",
   "metadata": {},
   "source": [
    "# Problem 2"
   ]
  },
  {
   "cell_type": "code",
   "execution_count": 3,
   "metadata": {},
   "outputs": [
    {
     "name": "stdout",
     "output_type": "stream",
     "text": [
      "1. Dizi: [10 15 30 45 60]\n",
      "2. Dizi: [ 5  6  7  8  9 10 11 12 13 14 15]\n",
      "3. Dizi: [ 50  55  60  65  70  75  80  85  90  95 100]\n",
      "4. Dizi: [0. 0. 0. 0. 0. 0. 0. 0. 0. 0.]\n",
      "5. Dizi: [1. 1. 1. 1. 1. 1. 1. 1. 1. 1.]\n",
      "6. Dizi: [  0.  25.  50.  75. 100.]\n",
      "7. Dizi: [23 17 11 26 10]\n",
      "8. Dizi: [-0.77355996  0.89528871 -0.90029     0.1923529  -0.29429354  0.35025798\n",
      "  0.44260687 -0.88769356  0.88864148  0.37980888]\n",
      "9. Matris:\n",
      " [[49 18 48 34 33]\n",
      " [25 48 43 39 10]\n",
      " [15 42 29 13 32]]\n",
      "10. Satır Toplamları: [182 165 131]\n",
      "10. Sütun Toplamları: [ 89 108 120  86  75]\n",
      "11. En büyük: 49\n",
      "11. En küçük: 10\n",
      "11. Ortalama: 31.866666666666667\n",
      "12. En büyük değerin indeksi: 0\n",
      "13. İlk 3 Eleman: [10 11 12]\n",
      "14. Ters Dizi: [20 19 18 17 16 15 14 13 12 11 10]\n",
      "15. İlk Satır: [49 18 48 34 33]\n",
      "16. 2. Satır 3. Sütun: 43\n",
      "17. Her satırın ilk elemanı: [49 25 15]\n",
      "18. Kareler:\n",
      " [[2401  324 2304 1156 1089]\n",
      " [ 625 2304 1849 1521  100]\n",
      " [ 225 1764  841  169 1024]]\n",
      "19. Yeni Matris:\n",
      " [[-42 -40  22 -47  32]\n",
      " [ 37   7 -36  11 -18]\n",
      " [ 16 -27   9  25  -8]]\n",
      "19. Pozitif Çift Sayılar: [22 32 16]\n"
     ]
    }
   ],
   "source": [
    "# 1- (10,15,30,45,60) değerlerine sahip numpy dizisi oluşturunuz.\n",
    "dizi1 = np.array([10, 15, 30, 45, 60])\n",
    "print(\"1. Dizi:\", dizi1)\n",
    "\n",
    "# 2- (5-15) arasındaki sayılarla numpy dizisi oluşturunuz.\n",
    "dizi2 = np.arange(5, 16)\n",
    "print(\"2. Dizi:\", dizi2)\n",
    "\n",
    "# 3- (50-100) arasında 5'er 5'er artarak numpy dizisi oluşturunuz.\n",
    "dizi3 = np.arange(50, 101, 5)\n",
    "print(\"3. Dizi:\", dizi3)\n",
    "\n",
    "# 4- 10 elemanlı sıfırlardan oluşan bir dizi oluşturunuz.\n",
    "dizi4 = np.zeros(10)\n",
    "print(\"4. Dizi:\", dizi4)\n",
    "\n",
    "# 5- 10 elemanlı birlerden oluşan bir dizi oluşturunuz.\n",
    "dizi5 = np.ones(10)\n",
    "print(\"5. Dizi:\", dizi5)\n",
    "\n",
    "# 6- (0-100) arasında eşit aralıklı 5 sayı üretin.\n",
    "dizi6 = np.linspace(0, 100, 5)\n",
    "print(\"6. Dizi:\", dizi6)\n",
    "\n",
    "# 7- (10-30) arasında rastgele 5 tane tamsayı üretin.\n",
    "dizi7 = np.random.randint(10, 30, 5)\n",
    "print(\"7. Dizi:\", dizi7)\n",
    "\n",
    "# 8- [-1 ile 1] arasında 10 adet sayı üretin.\n",
    "dizi8 = np.random.uniform(-1, 1, 10)\n",
    "print(\"8. Dizi:\", dizi8)\n",
    "\n",
    "# 9- (3x5) boyutlarında (10-50) arasında rastgele bir matris oluşturunuz.\n",
    "matris = np.random.randint(10, 50, (3, 5))\n",
    "print(\"9. Matris:\\n\", matris)\n",
    "\n",
    "\n",
    "# 10- Üretilen matrisin satır ve sütun sayıları toplamlarını hesaplayınız ?\n",
    "satir_toplam = np.sum(matris, axis=1)\n",
    "sutun_toplam = np.sum(matris, axis=0)\n",
    "print(\"10. Satır Toplamları:\", satir_toplam)\n",
    "print(\"10. Sütun Toplamları:\", sutun_toplam)\n",
    "\n",
    "\n",
    "# 11- Üretilen matrisin en büyük, en küçük ve ortalaması nedir ?\n",
    "print(\"11. En büyük:\", matris.max())\n",
    "print(\"11. En küçük:\", matris.min())\n",
    "print(\"11. Ortalama:\", matris.mean())\n",
    "\n",
    "\n",
    "# 12- Üretilen matrisin en büyük değerinin indeksi kaçtır ?\n",
    "indeks = np.argmax(matris)\n",
    "print(\"12. En büyük değerin indeksi:\", indeks)\n",
    "\n",
    "\n",
    "# 13- (10-20) arasındaki sayıları içeren dizinin ilk 3 elemanını seçiniz.\n",
    "dizi13 = np.arange(10, 21)\n",
    "print(\"13. İlk 3 Eleman:\", dizi13[:3])\n",
    "\n",
    "# 14- Üretilen dizinin elemanlarını tersten yazdırın.\n",
    "print(\"14. Ters Dizi:\", dizi13[::-1])\n",
    "\n",
    "\n",
    "# 15- Üretilen matrisin ilk satırını seçiniz.\n",
    "print(\"15. İlk Satır:\", matris[0])\n",
    "\n",
    "\n",
    "# 16- Üretilen matrisin 2.satır 3.sütundaki elemanı hangisidir ?\n",
    "print(\"16. 2. Satır 3. Sütun:\", matris[1, 2])\n",
    "\n",
    "\n",
    "# 17- Üretilen matrisin tüm satırlardaki ilk elemanı seçiniz.\n",
    "print(\"17. Her satırın ilk elemanı:\", matris[:, 0])\n",
    "\n",
    "# 18- Üretilen matrisin her bir elemanının karesini alınız.\n",
    "print(\"18. Kareler:\\n\", np.square(matris))\n",
    "\n",
    "# 19- Üretilen matris elemanlarının hangisi pozitif çift sayıdır ? Aralığı (-50,+50) arasında yapınız.\n",
    "matris19 = np.random.randint(-50, 51, (3, 5))\n",
    "print(\"19. Yeni Matris:\\n\", matris19)\n",
    "pozitif_ciftler = matris19[(matris19 > 0) & (matris19 % 2 == 0)]\n",
    "print(\"19. Pozitif Çift Sayılar:\", pozitif_ciftler)"
   ]
  }
 ],
 "metadata": {
  "kernelspec": {
   "display_name": "Python 3",
   "language": "python",
   "name": "python3"
  },
  "language_info": {
   "codemirror_mode": {
    "name": "ipython",
    "version": 3
   },
   "file_extension": ".py",
   "mimetype": "text/x-python",
   "name": "python",
   "nbconvert_exporter": "python",
   "pygments_lexer": "ipython3",
   "version": "3.13.2"
  },
  "orig_nbformat": 4,
  "vscode": {
   "interpreter": {
    "hash": "5026d2d6e7aaaaba093def813beadff083d8733e4a511af01735cbabd156995d"
   }
  }
 },
 "nbformat": 4,
 "nbformat_minor": 2
}
